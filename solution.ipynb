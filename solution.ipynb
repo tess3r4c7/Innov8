{
 "cells": [
  {
   "cell_type": "code",
   "execution_count": 324,
   "metadata": {},
   "outputs": [],
   "source": [
    "import pandas as pd"
   ]
  },
  {
   "cell_type": "code",
   "execution_count": 394,
   "metadata": {},
   "outputs": [
    {
     "name": "stdout",
     "output_type": "stream",
     "text": [
      "                                    message  fingers tail  species\n",
      "0                        pluvia arbor aquos        4   no   Aquari\n",
      "1                 cosmix xeno nebuz odbitaz        5  yes  Zorblax\n",
      "2        solarix glixx novum galaxum quasar        5  yes  Zorblax\n",
      "3  arbor insectus pesros ekos dootix nimbus        2  yes  Florian\n",
      "4         mermax drakos lorix epikoz deftax        4   no   Faerix\n",
      "                                            message  fingers tail\n",
      "0         iephyr terram nimbus terram faunar foliar        2   no\n",
      "1        joyzor uleex luvium caloox shockus blissae        4  yes\n",
      "2                                aquos arbor ventuc        4  yes\n",
      "3  nympha nympha epikoz nympha mythox mythox mythox        3   no\n",
      "4                            diitax sibenix fabulon        4  yes\n"
     ]
    }
   ],
   "source": [
    "df = pd.read_csv('data.csv')\n",
    "df.columns = df.columns.str.title()\n",
    "df.columns = df.columns.str.strip()\n",
    "df.style.set_properties(subset=['Message'], **{'text-align': 'left'})\n",
    "df.style.set_table_styles([{\n",
    "    'selector': 'th',\n",
    "    'props': [('font-weight', 'bold')]\n",
    "}])\n",
    "df = pd.read_csv('data.csv', header=0)\n",
    "print(df.head())\n",
    "\n",
    "# Reading the CSV file and processing the columns\n",
    "test_data = pd.read_csv('test.csv')\n",
    "test_data.columns = test_data.columns.str.title()  # Capitalize column titles\n",
    "test_data.columns = test_data.columns.str.strip()  # Remove extra spaces\n",
    "\n",
    "# Applying styles to the 'Message' column and bolding headers\n",
    "test_data.style.set_properties(subset=['Message'], **{'text-align': 'left'})\n",
    "test_data.style.set_table_styles([{\n",
    "    'selector': 'th',\n",
    "    'props': [('font-weight', 'bold')]\n",
    "}])\n",
    "\n",
    "# Reading the CSV file again with header\n",
    "test_data = pd.read_csv('test.csv', header=0)\n",
    "\n",
    "# Print the first few rows of the data\n",
    "print(test_data.head())\n",
    "\n"
   ]
  },
  {
   "cell_type": "code",
   "execution_count": 395,
   "metadata": {},
   "outputs": [
    {
     "name": "stdout",
     "output_type": "stream",
     "text": [
      "0      0\n",
      "1      1\n",
      "2      1\n",
      "3      1\n",
      "4      0\n",
      "      ..\n",
      "495    0\n",
      "496    0\n",
      "497    1\n",
      "498    1\n",
      "499    1\n",
      "Name: tail, Length: 500, dtype: int64\n"
     ]
    }
   ],
   "source": [
    "from sklearn.feature_extraction.text import TfidfVectorizer\n",
    "from sklearn.preprocessing import LabelEncoder\n",
    "\n",
    "vectorizer = TfidfVectorizer().fit(df['message'])\n",
    "message_tfidf = vectorizer.transform(df['message'])\n",
    "test_message_tfidf = vectorizer.transform(test_data['message'])\n",
    "\n",
    "# test_message_tfidf = vectorizer.fit_transform(test_data['message'])\n",
    "\n",
    "df['tail'] = df['tail'].map({'yes': 1, 'no': 0})\n",
    "test_data['tail'] = test_data['tail'].map({'yes': 1, 'no': 0})\n",
    "print(df['tail'])\n",
    "X_fingers_tail = df[['fingers', 'tail']]\n",
    "X_test_fingers_tail = test_data[['fingers', 'tail']]\n"
   ]
  },
  {
   "cell_type": "code",
   "execution_count": 396,
   "metadata": {},
   "outputs": [
    {
     "name": "stdout",
     "output_type": "stream",
     "text": [
      "0      0\n",
      "1      1\n",
      "2      1\n",
      "3      0\n",
      "4      1\n",
      "      ..\n",
      "294    1\n",
      "295    1\n",
      "296    1\n",
      "297    0\n",
      "298    0\n",
      "Name: tail, Length: 299, dtype: int64\n"
     ]
    }
   ],
   "source": [
    "print(test_data['tail'])"
   ]
  },
  {
   "cell_type": "code",
   "execution_count": 397,
   "metadata": {},
   "outputs": [],
   "source": [
    "from scipy.sparse import hstack\n",
    "\n",
    "X = hstack([message_tfidf, X_fingers_tail])\n",
    "X_test = hstack([test_message_tfidf, X_test_fingers_tail])\n",
    "\n",
    "label_encoder = LabelEncoder()\n",
    "y = label_encoder.fit_transform(df['species'])\n"
   ]
  },
  {
   "cell_type": "code",
   "execution_count": 434,
   "metadata": {},
   "outputs": [
    {
     "name": "stdout",
     "output_type": "stream",
     "text": [
      "Random Forest Validation Accuracy: 0.79\n"
     ]
    }
   ],
   "source": [
    "from sklearn.ensemble import RandomForestClassifier\n",
    "\n",
    "# Train a random forest model\n",
    "rf = RandomForestClassifier(n_estimators=200, max_depth=20, random_state=42)\n",
    "rf.fit(X_train, y_train)\n",
    "\n",
    "# Predict on validation set\n",
    "y_pred_rf = rf.predict(X_val)\n",
    "rf_acc = accuracy_score(y_val, y_pred_rf)\n",
    "print(f'Random Forest Validation Accuracy: {rf_acc}')\n"
   ]
  },
  {
   "cell_type": "code",
   "execution_count": 433,
   "metadata": {},
   "outputs": [
    {
     "name": "stdout",
     "output_type": "stream",
     "text": [
      "KNN Validation Accuracy: 0.81\n"
     ]
    }
   ],
   "source": [
    "from sklearn.neighbors import KNeighborsClassifier\n",
    "\n",
    "# Train a KNN model\n",
    "knn = KNeighborsClassifier(n_neighbors=5)\n",
    "knn.fit(X_train, y_train)\n",
    "\n",
    "# Predict on validation set\n",
    "y_pred_knn = knn.predict(X_val)\n",
    "knn_acc = accuracy_score(y_val, y_pred_knn)\n",
    "print(f'KNN Validation Accuracy: {knn_acc}')\n"
   ]
  },
  {
   "cell_type": "code",
   "execution_count": 437,
   "metadata": {},
   "outputs": [
    {
     "name": "stdout",
     "output_type": "stream",
     "text": [
      "Validation Accuracy: 0.82\n"
     ]
    }
   ],
   "source": [
    "from sklearn.model_selection import train_test_split\n",
    "from sklearn.ensemble import RandomForestClassifier\n",
    "from sklearn.metrics import accuracy_score\n",
    "\n",
    "X_train, X_val, y_train, y_val = train_test_split(X, y, test_size=0.2, random_state=42)\n",
    "\n",
    "model = RandomForestClassifier()\n",
    "model.fit(X_train, y_train)\n",
    "\n",
    "y_pred = model.predict(X_val)\n",
    "print(f'Validation Accuracy: {accuracy_score(y_val, y_pred)}')\n"
   ]
  },
  {
   "cell_type": "code",
   "execution_count": 436,
   "metadata": {},
   "outputs": [
    {
     "name": "stdout",
     "output_type": "stream",
     "text": [
      "Validation Accuracy: 0.61\n"
     ]
    }
   ],
   "source": [
    "from sklearn.naive_bayes import MultinomialNB\n",
    "from sklearn.model_selection import train_test_split\n",
    "from sklearn.metrics import accuracy_score\n",
    "\n",
    "X_train, X_val, y_train, y_val = train_test_split(X, y, test_size=0.2, random_state = 42)\n",
    "\n",
    "nb_model = MultinomialNB()\n",
    "nb_model.fit(X_train, y_train)\n",
    "\n",
    "y_pred = nb_model.predict(X_val)\n",
    "print(f'Validation Accuracy: {accuracy_score(y_val, y_pred)}')"
   ]
  },
  {
   "cell_type": "code",
   "execution_count": 438,
   "metadata": {},
   "outputs": [
    {
     "name": "stdout",
     "output_type": "stream",
     "text": [
      "XGBoost Validation Accuracy: 0.84\n"
     ]
    }
   ],
   "source": [
    "import xgboost as xgb\n",
    "\n",
    "# Train an XGBoost model\n",
    "xgboost_model = xgb.XGBClassifier(n_estimators=200, max_depth=10, learning_rate=0.1, random_state = 42)\n",
    "xgboost_model.fit(X_train, y_train)\n",
    "\n",
    "# Predict on validation set\n",
    "y_pred_xgb = xgboost_model.predict(X_val)\n",
    "xgb_acc = accuracy_score(y_val, y_pred_xgb)\n",
    "print(f'XGBoost Validation Accuracy: {xgb_acc}')\n"
   ]
  },
  {
   "cell_type": "code",
   "execution_count": 427,
   "metadata": {},
   "outputs": [
    {
     "name": "stdout",
     "output_type": "stream",
     "text": [
      "Logistic Regression Validation Accuracy: 0.79\n"
     ]
    }
   ],
   "source": [
    "from sklearn.linear_model import LogisticRegression\n",
    "from sklearn.model_selection import train_test_split\n",
    "from sklearn.metrics import accuracy_score\n",
    "\n",
    "# Split data into training and validation sets\n",
    "X_train, X_val, y_train, y_val = train_test_split(X, y, test_size=0.2)\n",
    "\n",
    "# Train a logistic regression model\n",
    "logreg = LogisticRegression(max_iter=1000)\n",
    "logreg.fit(X_train, y_train)\n",
    "\n",
    "# Predict on validation set\n",
    "y_pred_logreg = logreg.predict(X_val)\n",
    "logreg_acc = accuracy_score(y_val, y_pred_logreg)\n",
    "print(f'Logistic Regression Validation Accuracy: {logreg_acc}')\n"
   ]
  },
  {
   "cell_type": "code",
   "execution_count": 388,
   "metadata": {},
   "outputs": [
    {
     "name": "stdout",
     "output_type": "stream",
     "text": [
      "SVM Validation Accuracy: 0.91\n"
     ]
    }
   ],
   "source": [
    "from sklearn.svm import SVC\n",
    "\n",
    "# Train an SVM classifier\n",
    "svm = SVC(kernel='linear', C=1, random_state=42)\n",
    "svm.fit(X_train, y_train)\n",
    "\n",
    "# Predict on validation set\n",
    "y_pred_svm = svm.predict(X_val)\n",
    "svm_acc = accuracy_score(y_val, y_pred_svm)\n",
    "print(f'SVM Validation Accuracy: {svm_acc}')\n"
   ]
  },
  {
   "cell_type": "code",
   "execution_count": 439,
   "metadata": {},
   "outputs": [
    {
     "name": "stdout",
     "output_type": "stream",
     "text": [
      "LinearSVC Validation Accuracy: 0.78\n"
     ]
    },
    {
     "name": "stderr",
     "output_type": "stream",
     "text": [
      "e:\\Anaconda\\Lib\\site-packages\\sklearn\\svm\\_classes.py:31: FutureWarning: The default value of `dual` will change from `True` to `'auto'` in 1.5. Set the value of `dual` explicitly to suppress the warning.\n",
      "  warnings.warn(\n",
      "e:\\Anaconda\\Lib\\site-packages\\sklearn\\svm\\_base.py:1237: ConvergenceWarning: Liblinear failed to converge, increase the number of iterations.\n",
      "  warnings.warn(\n"
     ]
    }
   ],
   "source": [
    "from sklearn.svm import LinearSVC\n",
    "\n",
    "svc_model = LinearSVC()\n",
    "\n",
    "# Train the model using the training data\n",
    "svc_model.fit(X_train, y_train)\n",
    "\n",
    "# Predict the labels for the test data\n",
    "y_pred = svc_model.predict(X_val)\n",
    "\n",
    "svm_acc = accuracy_score(y_val, y_pred)\n",
    "print(f'LinearSVC Validation Accuracy: {svm_acc}')"
   ]
  },
  {
   "cell_type": "code",
   "execution_count": 389,
   "metadata": {},
   "outputs": [
    {
     "data": {
      "text/plain": [
       "(100, 638)"
      ]
     },
     "execution_count": 389,
     "metadata": {},
     "output_type": "execute_result"
    }
   ],
   "source": [
    "X_val.shape"
   ]
  },
  {
   "cell_type": "code",
   "execution_count": 390,
   "metadata": {},
   "outputs": [
    {
     "data": {
      "text/plain": [
       "(299, 638)"
      ]
     },
     "execution_count": 390,
     "metadata": {},
     "output_type": "execute_result"
    }
   ],
   "source": [
    "X_test.shape"
   ]
  },
  {
   "cell_type": "code",
   "execution_count": 379,
   "metadata": {},
   "outputs": [
    {
     "name": "stdout",
     "output_type": "stream",
     "text": [
      "                                            message  fingers tail\n",
      "0         iephyr terram nimbus terram faunar foliar        2   no\n",
      "1        joyzor uleex luvium caloox shockus blissae        4  yes\n",
      "2                                aquos arbor ventuc        4  yes\n",
      "3  nympha nympha epikoz nympha mythox mythox mythox        3   no\n",
      "4                            diitax sibenix fabulon        4  yes\n"
     ]
    }
   ],
   "source": [
    "# import pandas as pd\n",
    "\n",
    "# # Reading the CSV file and processing the columns\n",
    "# test_data = pd.read_csv('test.csv')\n",
    "# test_data.columns = test_data.columns.str.title()  # Capitalize column titles\n",
    "# test_data.columns = test_data.columns.str.strip()  # Remove extra spaces\n",
    "\n",
    "# # Applying styles to the 'Message' column and bolding headers\n",
    "# test_data.style.set_properties(subset=['Message'], **{'text-align': 'left'})\n",
    "# test_data.style.set_table_styles([{\n",
    "#     'selector': 'th',\n",
    "#     'props': [('font-weight', 'bold')]\n",
    "# }])\n",
    "\n",
    "# # Reading the CSV file again with header\n",
    "# test_data = pd.read_csv('test.csv', header=0)\n",
    "\n",
    "# # Print the first few rows of the data\n",
    "# print(test_data.head())"
   ]
  },
  {
   "cell_type": "code",
   "execution_count": 374,
   "metadata": {},
   "outputs": [
    {
     "name": "stdout",
     "output_type": "stream",
     "text": [
      "0      0\n",
      "1      1\n",
      "2      1\n",
      "3      0\n",
      "4      1\n",
      "      ..\n",
      "294    1\n",
      "295    1\n",
      "296    1\n",
      "297    0\n",
      "298    0\n",
      "Name: tail, Length: 299, dtype: int64\n"
     ]
    }
   ],
   "source": [
    "# from sklearn.feature_extraction.text import TfidfVectorizer\n",
    "# from sklearn.preprocessing import LabelEncoder\n",
    "\n",
    "# # Initialize the TF-IDF vectorizer\n",
    "# vectorizer = TfidfVectorizer()\n",
    "\n",
    "# # Transform the 'message' column using TF-IDF\n",
    "# message_tfidf = vectorizer.fit_transform(df['message'])\n",
    "\n",
    "# # Map 'yes' to 1 and 'no' to 0 in the 'tail' column\n",
    "# test_data['tail'] = test_data['tail'].map({'yes': 1, 'no': 0})\n",
    "# print(test_data['tail'])\n",
    "\n",
    "# # Select the 'fingers' and 'tail' columns\n",
    "# X_fingers_tail = test_data[['fingers', 'tail']]\n"
   ]
  },
  {
   "cell_type": "code",
   "execution_count": 380,
   "metadata": {},
   "outputs": [
    {
     "ename": "TypeError",
     "evalue": "no supported conversion for types: (dtype('float64'), dtype('O'))",
     "output_type": "error",
     "traceback": [
      "\u001b[1;31m---------------------------------------------------------------------------\u001b[0m",
      "\u001b[1;31mTypeError\u001b[0m                                 Traceback (most recent call last)",
      "Cell \u001b[1;32mIn[380], line 12\u001b[0m\n\u001b[0;32m     10\u001b[0m \u001b[38;5;66;03m# Combine the TF-IDF transformed text with the numeric features\u001b[39;00m\n\u001b[0;32m     11\u001b[0m \u001b[38;5;28;01mfrom\u001b[39;00m \u001b[38;5;21;01mscipy\u001b[39;00m\u001b[38;5;21;01m.\u001b[39;00m\u001b[38;5;21;01msparse\u001b[39;00m \u001b[38;5;28;01mimport\u001b[39;00m hstack\n\u001b[1;32m---> 12\u001b[0m X_test \u001b[38;5;241m=\u001b[39m hstack([X_test_text, X_test_fingers_tail])\n",
      "File \u001b[1;32me:\\Anaconda\\Lib\\site-packages\\scipy\\sparse\\_construct.py:733\u001b[0m, in \u001b[0;36mhstack\u001b[1;34m(blocks, format, dtype)\u001b[0m\n\u001b[0;32m    731\u001b[0m     \u001b[38;5;28;01mreturn\u001b[39;00m _block([blocks], \u001b[38;5;28mformat\u001b[39m, dtype)\n\u001b[0;32m    732\u001b[0m \u001b[38;5;28;01melse\u001b[39;00m:\n\u001b[1;32m--> 733\u001b[0m     \u001b[38;5;28;01mreturn\u001b[39;00m _block([blocks], \u001b[38;5;28mformat\u001b[39m, dtype, return_spmatrix\u001b[38;5;241m=\u001b[39m\u001b[38;5;28;01mTrue\u001b[39;00m)\n",
      "File \u001b[1;32me:\\Anaconda\\Lib\\site-packages\\scipy\\sparse\\_construct.py:962\u001b[0m, in \u001b[0;36m_block\u001b[1;34m(blocks, format, dtype, return_spmatrix)\u001b[0m\n\u001b[0;32m    960\u001b[0m \u001b[38;5;28;01mif\u001b[39;00m dtype \u001b[38;5;129;01mis\u001b[39;00m \u001b[38;5;28;01mNone\u001b[39;00m:\n\u001b[0;32m    961\u001b[0m     all_dtypes \u001b[38;5;241m=\u001b[39m [blk\u001b[38;5;241m.\u001b[39mdtype \u001b[38;5;28;01mfor\u001b[39;00m blk \u001b[38;5;129;01min\u001b[39;00m blocks[block_mask]]\n\u001b[1;32m--> 962\u001b[0m     dtype \u001b[38;5;241m=\u001b[39m upcast(\u001b[38;5;241m*\u001b[39mall_dtypes) \u001b[38;5;28;01mif\u001b[39;00m all_dtypes \u001b[38;5;28;01melse\u001b[39;00m \u001b[38;5;28;01mNone\u001b[39;00m\n\u001b[0;32m    964\u001b[0m row_offsets \u001b[38;5;241m=\u001b[39m np\u001b[38;5;241m.\u001b[39mappend(\u001b[38;5;241m0\u001b[39m, np\u001b[38;5;241m.\u001b[39mcumsum(brow_lengths))\n\u001b[0;32m    965\u001b[0m col_offsets \u001b[38;5;241m=\u001b[39m np\u001b[38;5;241m.\u001b[39mappend(\u001b[38;5;241m0\u001b[39m, np\u001b[38;5;241m.\u001b[39mcumsum(bcol_lengths))\n",
      "File \u001b[1;32me:\\Anaconda\\Lib\\site-packages\\scipy\\sparse\\_sputils.py:55\u001b[0m, in \u001b[0;36mupcast\u001b[1;34m(*args)\u001b[0m\n\u001b[0;32m     52\u001b[0m         _upcast_memo[\u001b[38;5;28mhash\u001b[39m(args)] \u001b[38;5;241m=\u001b[39m t\n\u001b[0;32m     53\u001b[0m         \u001b[38;5;28;01mreturn\u001b[39;00m t\n\u001b[1;32m---> 55\u001b[0m \u001b[38;5;28;01mraise\u001b[39;00m \u001b[38;5;167;01mTypeError\u001b[39;00m(\u001b[38;5;124mf\u001b[39m\u001b[38;5;124m'\u001b[39m\u001b[38;5;124mno supported conversion for types: \u001b[39m\u001b[38;5;132;01m{\u001b[39;00margs\u001b[38;5;132;01m!r}\u001b[39;00m\u001b[38;5;124m'\u001b[39m)\n",
      "\u001b[1;31mTypeError\u001b[0m: no supported conversion for types: (dtype('float64'), dtype('O'))"
     ]
    }
   ],
   "source": [
    "# # Assuming you have already fitted the vectorizer on the training data\n",
    "# # i.e. vectorizer = TfidfVectorizer().fit(train_data['Message'])\n",
    "\n",
    "# # Transform the 'Message' column in the test dataset using the same vectorizer\n",
    "# X_test_text = vectorizer.transform(test_data['message'])\n",
    "\n",
    "# # Assuming you're using 'Number of Fingers' and 'Tail' as additional features\n",
    "# X_test_fingers_tail = test_data[['fingers', 'tail']]\n",
    "\n",
    "# # Combine the TF-IDF transformed text with the numeric features\n",
    "# from scipy.sparse import hstack\n",
    "# X_test = hstack([X_test_text, X_test_fingers_tail])\n"
   ]
  },
  {
   "cell_type": "code",
   "execution_count": 391,
   "metadata": {},
   "outputs": [],
   "source": [
    "# Predict using the SVM model\n",
    "y_preds = svm.predict(X_test)\n",
    "\n",
    "# Convert predictions back to species names using the label encoder\n",
    "predicted_species = label_encoder.inverse_transform(y_preds)\n"
   ]
  },
  {
   "cell_type": "code",
   "execution_count": null,
   "metadata": {},
   "outputs": [
    {
     "data": {
      "text/html": [
       "<div>\n",
       "<style scoped>\n",
       "    .dataframe tbody tr th:only-of-type {\n",
       "        vertical-align: middle;\n",
       "    }\n",
       "\n",
       "    .dataframe tbody tr th {\n",
       "        vertical-align: top;\n",
       "    }\n",
       "\n",
       "    .dataframe thead th {\n",
       "        text-align: right;\n",
       "    }\n",
       "</style>\n",
       "<table border=\"1\" class=\"dataframe\">\n",
       "  <thead>\n",
       "    <tr style=\"text-align: right;\">\n",
       "      <th></th>\n",
       "      <th>message</th>\n",
       "      <th>fingers</th>\n",
       "      <th>tail</th>\n",
       "    </tr>\n",
       "  </thead>\n",
       "  <tbody>\n",
       "    <tr>\n",
       "      <th>0</th>\n",
       "      <td>iephyr terram nimbus terram faunar foliar</td>\n",
       "      <td>2</td>\n",
       "      <td>no</td>\n",
       "    </tr>\n",
       "    <tr>\n",
       "      <th>1</th>\n",
       "      <td>joyzor uleex luvium caloox shockus blissae</td>\n",
       "      <td>4</td>\n",
       "      <td>yes</td>\n",
       "    </tr>\n",
       "    <tr>\n",
       "      <th>2</th>\n",
       "      <td>aquos arbor ventuc</td>\n",
       "      <td>4</td>\n",
       "      <td>yes</td>\n",
       "    </tr>\n",
       "    <tr>\n",
       "      <th>3</th>\n",
       "      <td>nympha nympha epikoz nympha mythox mythox mythox</td>\n",
       "      <td>3</td>\n",
       "      <td>no</td>\n",
       "    </tr>\n",
       "    <tr>\n",
       "      <th>4</th>\n",
       "      <td>diitax sibenix fabulon</td>\n",
       "      <td>4</td>\n",
       "      <td>yes</td>\n",
       "    </tr>\n",
       "  </tbody>\n",
       "</table>\n",
       "</div>"
      ],
      "text/plain": [
       "                                            message  fingers tail\n",
       "0         iephyr terram nimbus terram faunar foliar        2   no\n",
       "1        joyzor uleex luvium caloox shockus blissae        4  yes\n",
       "2                                aquos arbor ventuc        4  yes\n",
       "3  nympha nympha epikoz nympha mythox mythox mythox        3   no\n",
       "4                            diitax sibenix fabulon        4  yes"
      ]
     },
     "execution_count": 308,
     "metadata": {},
     "output_type": "execute_result"
    }
   ],
   "source": [
    "# # Import necessary libraries\n",
    "# import pandas as pd\n",
    "# from sklearn.model_selection import train_test_split\n",
    "# from sklearn.feature_extraction.text import TfidfVectorizer\n",
    "# from sklearn.ensemble import RandomForestClassifier\n",
    "# from sklearn.preprocessing import LabelEncoder\n",
    "# from scipy.sparse import hstack\n",
    "# from sklearn.metrics import accuracy_score\n",
    "\n",
    "# # Load the training and test data\n",
    "# test_data = pd.read_csv('test.csv')\n",
    "\n",
    "# # Display the first few rows of the training data\n",
    "# test_data.head()\n"
   ]
  },
  {
   "cell_type": "code",
   "execution_count": 342,
   "metadata": {},
   "outputs": [
    {
     "name": "stdout",
     "output_type": "stream",
     "text": [
      "SVM Validation Accuracy: 0.91\n"
     ]
    }
   ],
   "source": [
    "# from sklearn.svm import SVC\n",
    "\n",
    "# # Train an SVM classifier\n",
    "# svm = SVC(kernel='linear', C=1, random_state=42)\n",
    "# svm.fit(X_train, y_train)\n",
    "\n",
    "# # Predict on validation set\n",
    "# y_pred_svm = svm.predict(X_val)\n",
    "# svm_acc = accuracy_score(y_val, y_pred_svm)\n",
    "# print(f'SVM Validation Accuracy: {svm_acc}')\n"
   ]
  },
  {
   "cell_type": "code",
   "execution_count": 393,
   "metadata": {},
   "outputs": [
    {
     "name": "stdout",
     "output_type": "stream",
     "text": [
      "['Aquari' 'Sentire' 'Florian' 'Faerix' 'Mythron' 'Mythron' 'Faerix'\n",
      " 'Faerix' 'Emotivor' 'Florian']\n"
     ]
    }
   ],
   "source": [
    "# Display the first few predictions\n",
    "print(predicted_species[:10])\n",
    "\n",
    "# Save predictions to a CSV file\n",
    "result = pd.DataFrame(predicted_species, columns=['Species'])\n",
    "result.to_csv('result.csv', index=False)"
   ]
  },
  {
   "cell_type": "code",
   "execution_count": null,
   "metadata": {},
   "outputs": [],
   "source": []
  },
  {
   "cell_type": "code",
   "execution_count": null,
   "metadata": {},
   "outputs": [],
   "source": []
  }
 ],
 "metadata": {
  "kernelspec": {
   "display_name": "labelImg",
   "language": "python",
   "name": "python3"
  },
  "language_info": {
   "codemirror_mode": {
    "name": "ipython",
    "version": 3
   },
   "file_extension": ".py",
   "mimetype": "text/x-python",
   "name": "python",
   "nbconvert_exporter": "python",
   "pygments_lexer": "ipython3",
   "version": "3.12.4"
  }
 },
 "nbformat": 4,
 "nbformat_minor": 2
}
